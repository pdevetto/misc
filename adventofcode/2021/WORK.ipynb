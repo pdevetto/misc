{
 "cells": [
  {
   "cell_type": "code",
   "execution_count": null,
   "id": "f279d5f4-1b43-43cc-a9f4-356e76f49478",
   "metadata": {},
   "outputs": [],
   "source": [
    "import utils, sys\n",
    "import functools\n",
    "\n",
    "data_exemple = [\"#############\",\"#...........#\",\"###B#C#B#D###\",\"  #A#D#C#A#\",\"  #########\"]\n",
    "data_exo = utils.readfile(\"data/d24.txt\")\n",
    "\n",
    "\n",
    "def pf(k):\n",
    "    #print(k)\n",
    "    [i,j] = k.split(',')\n",
    "    return int(i), int(j)\n",
    "def fp(i,j):\n",
    "    return str(i) + ',' + str(j)\n",
    "\n",
    "def process_map(data):\n",
    "    path = {}\n",
    "    for line in data:\n",
    "        \n"
   ]
  }
 ],
 "metadata": {
  "kernelspec": {
   "display_name": "Python 3 (ipykernel)",
   "language": "python",
   "name": "python3"
  },
  "language_info": {
   "codemirror_mode": {
    "name": "ipython",
    "version": 3
   },
   "file_extension": ".py",
   "mimetype": "text/x-python",
   "name": "python",
   "nbconvert_exporter": "python",
   "pygments_lexer": "ipython3",
   "version": "3.8.10"
  }
 },
 "nbformat": 4,
 "nbformat_minor": 5
}
