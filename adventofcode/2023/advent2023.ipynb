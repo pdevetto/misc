{
 "cells": [
  {
   "cell_type": "code",
   "execution_count": 49,
   "id": "48d9038f",
   "metadata": {},
   "outputs": [
    {
     "name": "stdout",
     "output_type": "stream",
     "text": [
      "data/d_2023_11.txt\n",
      "result 10228230\n",
      "Time :  3661.5092754364014  ms\n",
      "result 447073334102\n",
      "Time :  1944.8742866516113  ms\n"
     ]
    }
   ],
   "source": [
    "import utils, sys, re\n",
    "import time, numpy, collections, itertools\n",
    "\n",
    "data_ex= [\n",
    "    \"...#......\",\n",
    "    \".......#..\",\n",
    "    \"#.........\",\n",
    "    \"..........\",\n",
    "    \"......#...\",\n",
    "    \".#........\",\n",
    "    \".........#\",\n",
    "    \"..........\",\n",
    "    \".......#..\",\n",
    "    \"#...#.....\"\n",
    "]\n",
    "data = utils.readfile(\"data/d_2023_11.txt\")\n",
    "\n",
    "def ij2k(i,j): \n",
    "    return str(i)+'.'+str(j)\n",
    "def k2ij(k):\n",
    "    (i,j) = tuple(map(int, k.split('.')))\n",
    "    return i,j \n",
    "def distance_composante(t,u, empty_e={}, empty_size=2):\n",
    "    if t == u:\n",
    "        return 0\n",
    "    delta = len([i for i in range(min(t,u), max(t,u)) if empty_e.get(i, False)])\n",
    "    return abs(t - u) + delta * (empty_size-1)\n",
    "        \n",
    "assert distance_composante(1, 5, {2:True, 3:False}) == 5\n",
    "assert distance_composante(1, 5, {2:True, 3:True}) == 6\n",
    "assert distance_composante(5, 1, {2:True, 3:True}) == 6\n",
    "assert distance_composante(1, 5) == 4\n",
    "\n",
    "def distance_ab(a, b, empty_size=2, empty_rows={}, empty_cols={}):\n",
    "    ia, ja = k2ij(a)\n",
    "    ib, jb = k2ij(b)\n",
    "    return (distance_composante(ia, ib, empty_rows, empty_size) + \n",
    "        distance_composante(ja, jb, empty_cols, empty_size))\n",
    "    \n",
    "assert distance_ab('1.1','3.3') == 4\n",
    "assert distance_ab('1.1','3.3', 2, {2:True}, {2:True}) == 6\n",
    "    \n",
    "def day11(data, empty_size):\n",
    "    map_galaxies = {}\n",
    "    empty_cols = {col:True for col in range(0,len(data[0]))}\n",
    "    empty_rows = {col:True for col in range(0,len(data))}\n",
    "    galaxi = 0\n",
    "    for i,line in enumerate(data):\n",
    "        for j,c in enumerate(line):\n",
    "            if c == '#':\n",
    "                galaxi += 1\n",
    "                empty_cols[j] = False\n",
    "                empty_rows[i] = False\n",
    "                map_galaxies[ij2k(i,j)] = str(galaxi)\n",
    "    dists = {\n",
    "        map_galaxies[pair[0]]+\"x\"+map_galaxies[pair[1]]: \n",
    "            distance_ab(pair[0], pair[1], empty_size, empty_rows, empty_cols) \n",
    "        for pair in list(itertools.combinations(map_galaxies.keys(), 2))\n",
    "    }\n",
    "    return sum(dists.values())\n",
    "\n",
    "assert day11(data_ex, 2) == 374\n",
    "start = time.time()\n",
    "print(\"result\", day11(data, 2))\n",
    "assert day11(data, 2) == 10228230\n",
    "end = time.time()\n",
    "print(\"Time : \", (end - start)*1000, \" ms\")\n",
    "\n",
    "assert day11(data_ex, 10) == 1030\n",
    "assert day11(data_ex, 100) == 8410\n",
    "start = time.time()\n",
    "print(\"result\", day11(data, 1000000))\n",
    "end = time.time()\n",
    "print(\"Time : \", (end - start)*1000, \" ms\")"
   ]
  },
  {
   "cell_type": "code",
   "execution_count": null,
   "id": "d071997c",
   "metadata": {},
   "outputs": [],
   "source": []
  }
 ],
 "metadata": {
  "kernelspec": {
   "display_name": "Python 3 (ipykernel)",
   "language": "python",
   "name": "python3"
  },
  "language_info": {
   "codemirror_mode": {
    "name": "ipython",
    "version": 3
   },
   "file_extension": ".py",
   "mimetype": "text/x-python",
   "name": "python",
   "nbconvert_exporter": "python",
   "pygments_lexer": "ipython3",
   "version": "3.10.12"
  }
 },
 "nbformat": 4,
 "nbformat_minor": 5
}
