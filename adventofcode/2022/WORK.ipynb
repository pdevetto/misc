{
 "cells": [
  {
   "cell_type": "code",
   "execution_count": 28,
   "id": "f279d5f4-1b43-43cc-a9f4-356e76f49478",
   "metadata": {},
   "outputs": [
    {
     "name": "stdout",
     "output_type": "stream",
     "text": [
      "data/d2.txt\n",
      "Total :  12\n",
      "Total :  14652\n"
     ]
    }
   ],
   "source": [
    "import utils, sys\n",
    "import functools\n",
    "\n",
    "data_exemple = [\"A Y\",\"B X\",\"C Z\"]\n",
    "data = utils.readfile(\"data/d2.txt\")\n",
    "\n",
    "#print(data_exemple)\n",
    "#print(data) \n",
    "\n",
    "def d020(data):\n",
    "    #print(data)\n",
    "    win = [\"RS\", \"SP\", \"PR\"]\n",
    "    score = {\"R\":1, \"P\":2, \"S\":3}\n",
    "    forces = {\"A\":\"R\", \"B\":\"P\", \"C\":\"S\", \"X\":\"R\", \"Y\":\"P\", \"Z\":\"S\"}\n",
    "    totalscore = 0\n",
    "    for line in data: \n",
    "        [a,b] = line.split(\" \")\n",
    "        #print(a, \"-\", b)\n",
    "        roundscore = score[forces[b]]\n",
    "        fa,fb = forces[a],forces[b]\n",
    "        if fa == fb:\n",
    "            roundscore += 3\n",
    "        elif fb+\"\"+fa in win:\n",
    "            roundscore += 6\n",
    "        #print(\"R : \", roundscore)\n",
    "        totalscore += roundscore\n",
    "    print(\"Total : \", totalscore)\n",
    "\n",
    "def d022(data):\n",
    "    #print(data)\n",
    "    win = {\"R\":\"P\", \"S\":\"R\", \"P\":\"S\"}\n",
    "    score = {\"R\":1, \"P\":2, \"S\":3}\n",
    "    forces = {\"A\":\"R\", \"B\":\"P\", \"C\":\"S\"}\n",
    "    totalscore = 0\n",
    "    for line in data: \n",
    "        [a,b] = line.split(\" \")\n",
    "        #print(a, \"-\", b)\n",
    "        roundscore = 0\n",
    "        fa = forces[a]\n",
    "        if b == \"Y\":\n",
    "            roundscore += score[fa] + 3\n",
    "        elif b == \"Z\":\n",
    "            roundscore += score[win[fa]]+ 6\n",
    "        else: \n",
    "            lose = list(set([\"R\", \"P\", \"S\"]) - set([fa, win[fa]]))\n",
    "            roundscore += score[lose[0]]\n",
    "        #print(\"R : \", roundscore)\n",
    "        totalscore += roundscore\n",
    "    print(\"Total : \", totalscore)\n",
    "    \n",
    "res = d022(data_exemple)\n",
    "\n",
    "res2 = d022(data)\n",
    "\n",
    "\n"
   ]
  },
  {
   "cell_type": "code",
   "execution_count": 27,
   "id": "b6900cde",
   "metadata": {},
   "outputs": [
    {
     "name": "stdout",
     "output_type": "stream",
     "text": [
      "Total :  12\n",
      "Total :  14652\n"
     ]
    }
   ],
   "source": []
  }
 ],
 "metadata": {
  "kernelspec": {
   "display_name": "Python 3 (ipykernel)",
   "language": "python",
   "name": "python3"
  },
  "language_info": {
   "codemirror_mode": {
    "name": "ipython",
    "version": 3
   },
   "file_extension": ".py",
   "mimetype": "text/x-python",
   "name": "python",
   "nbconvert_exporter": "python",
   "pygments_lexer": "ipython3",
   "version": "3.10.6"
  }
 },
 "nbformat": 4,
 "nbformat_minor": 5
}
