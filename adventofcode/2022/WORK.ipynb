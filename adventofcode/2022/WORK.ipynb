{
 "cells": [
  {
   "cell_type": "code",
   "execution_count": 30,
   "id": "f279d5f4-1b43-43cc-a9f4-356e76f49478",
   "metadata": {},
   "outputs": [
    {
     "name": "stdout",
     "output_type": "stream",
     "text": [
      "data/d6.txt\n",
      "mjqjpqmgbljsphdztnvjfqwrcgsmlb\n",
      "jpqm 7\n",
      "vwbj 5\n",
      "pdvj 6\n",
      "rfnt 10\n",
      "zqfr 11\n",
      "jfvh 1912\n",
      "qmgbljsphdztnv 19\n",
      "vbhsrlpgdmjqwf 23\n",
      "ldpwncqszvftbr 23\n",
      "wmzdfjlvtqnbhc 29\n",
      "jwzlrfnpqdbhtm 26\n",
      "zgtnrvblfwmhds 2122\n"
     ]
    },
    {
     "data": {
      "text/plain": [
       "2122"
      ]
     },
     "execution_count": 30,
     "metadata": {},
     "output_type": "execute_result"
    }
   ],
   "source": [
    "import utils, sys, re\n",
    "import functools\n",
    "\n",
    "data_ex=\"mjqjpqmgbljsphdztnvjfqwrcgsmlb\"\n",
    "data = utils.readfile(\"data/d6.txt\")[0]\n",
    "print(data_ex)\n",
    "\n",
    "def d06(data, n=14):\n",
    "    seq = []\n",
    "    for i, c in enumerate(data):\n",
    "        if len(seq)==n:\n",
    "            seq.pop(0)\n",
    "        seq.append(c)\n",
    "        if len(seq)==n and len(set(seq)) == n:\n",
    "            print(\"\".join(seq), i+1)\n",
    "            return i+1\n",
    "            \n",
    "assert d06(data_ex, 4) == 7\n",
    "assert d06(\"bvwbjplbgvbhsrlpgdmjqwftvncz\", 4) == 5\n",
    "assert d06(\"nppdvjthqldpwncqszvftbrmjlhg\", 4) == 6\n",
    "assert d06(\"nznrnfrfntjfmvfwmzdfjlvtqnbhcprsg\", 4) == 10\n",
    "assert d06(\"zcfzfwzzqfrljwzlrfnpqdbhtmscgvjw\", 4) == 11\n",
    "\n",
    "d06(data, 4)\n",
    "\n",
    "assert d06(data_ex) == 19\n",
    "assert d06(\"bvwbjplbgvbhsrlpgdmjqwftvncz\") == 23\n",
    "assert d06(\"nppdvjthqldpwncqszvftbrmjlhg\") == 23\n",
    "assert d06(\"nznrnfrfntjfmvfwmzdfjlvtqnbhcprsg\") == 29\n",
    "assert d06(\"zcfzfwzzqfrljwzlrfnpqdbhtmscgvjw\") == 26\n",
    "\n",
    "d06(data)\n",
    "\n"
   ]
  },
  {
   "cell_type": "code",
   "execution_count": 27,
   "id": "b6900cde",
   "metadata": {},
   "outputs": [
    {
     "name": "stdout",
     "output_type": "stream",
     "text": [
      "Total :  12\n",
      "Total :  14652\n"
     ]
    }
   ],
   "source": []
  }
 ],
 "metadata": {
  "kernelspec": {
   "display_name": "Python 3 (ipykernel)",
   "language": "python",
   "name": "python3"
  },
  "language_info": {
   "codemirror_mode": {
    "name": "ipython",
    "version": 3
   },
   "file_extension": ".py",
   "mimetype": "text/x-python",
   "name": "python",
   "nbconvert_exporter": "python",
   "pygments_lexer": "ipython3",
   "version": "3.10.6"
  }
 },
 "nbformat": 4,
 "nbformat_minor": 5
}
